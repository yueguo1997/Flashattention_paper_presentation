{
 "cells": [
  {
   "cell_type": "code",
   "execution_count": null,
   "id": "e470b27f",
   "metadata": {},
   "outputs": [],
   "source": [
    "import torch\n",
    "from torch import nn\n",
    "from torch.utils.data import DataLoader, random_split\n",
    "from torchvision.datasets import MNIST\n",
    "import torchvision.transforms as transforms\n",
    "from flash.core.data.utils import download_data\n",
    "from flash.text import TextClassificationData, TextClassifier\n",
    "from flash_attn import FlashAttn"
   ]
  },
  {
   "cell_type": "code",
   "execution_count": null,
   "id": "f787bcc4",
   "metadata": {},
   "outputs": [],
   "source": [
    "download_data(\"https://pl-flash-data.s3.amazonaws.com/mnist.zip\", \"./data\")"
   ]
  },
  {
   "cell_type": "code",
   "execution_count": null,
   "id": "3283e69c",
   "metadata": {},
   "outputs": [],
   "source": [
    "# Define the model\n",
    "class TransformerModel(nn.Module):\n",
    "    def __init__(self):\n",
    "        super().__init__()\n",
    "        self.embedding = nn.Linear(784, 256)\n",
    "        self.encoder = FlashAttn(input_dim=256, hidden_dim=256, num_layers=4, num_heads=8)\n",
    "        self.decoder = nn.Linear(256, 10)\n",
    "\n",
    "    def forward(self, x):\n",
    "        x = x.view(-1, 784)\n",
    "        x = self.embedding(x)\n",
    "        x = self.encoder(x)\n",
    "        x = self.decoder(x)\n",
    "        return x"
   ]
  },
  {
   "cell_type": "code",
   "execution_count": null,
   "id": "31d5ac7b",
   "metadata": {},
   "outputs": [],
   "source": [
    "dataset = MNIST('./data', train=True, download=False, transform=transforms.ToTensor())\n",
    "train_data, val_data = random_split(dataset, [55000, 5000])\n",
    "train_loader = DataLoader(train_data, batch_size=256, num_workers=4)\n",
    "val_loader = DataLoader(val_data, batch_size=256, num_workers=4)\n"
   ]
  },
  {
   "cell_type": "code",
   "execution_count": null,
   "id": "1777ce02",
   "metadata": {},
   "outputs": [],
   "source": [
    "model = TransformerModel()\n",
    "optimizer = torch.optim.Adam(model.parameters(), lr=1e-3)\n"
   ]
  },
  {
   "cell_type": "code",
   "execution_count": null,
   "id": "bcf449b3",
   "metadata": {},
   "outputs": [],
   "source": [
    "criterion = nn.CrossEntropyLoss()\n",
    "metrics = {'accuracy': torchmetrics.Accuracy()}\n"
   ]
  },
  {
   "cell_type": "code",
   "execution_count": null,
   "id": "6fc84b0c",
   "metadata": {},
   "outputs": [],
   "source": [
    "trainer = flash.Trainer(max_epochs=10, gpus=torch.cuda.device_count())\n",
    "trainer.finetune(model, train_loader, val_loader, criterion=criterion, optimizer=optimizer, metrics=metrics)\n"
   ]
  },
  {
   "cell_type": "code",
   "execution_count": null,
   "id": "7d27b13e",
   "metadata": {},
   "outputs": [],
   "source": [
    "test_dataset = MNIST('./data', train=False, download=False, transform=transforms.ToTensor())\n",
    "test_loader = DataLoader(test_dataset, batch_size=256, num_workers=4)\n",
    "trainer.test(test_dataloaders=test_loader)"
   ]
  },
  {
   "cell_type": "code",
   "execution_count": null,
   "id": "dfd97ae6",
   "metadata": {},
   "outputs": [],
   "source": []
  },
  {
   "cell_type": "code",
   "execution_count": null,
   "id": "8d067a9f",
   "metadata": {},
   "outputs": [],
   "source": []
  }
 ],
 "metadata": {
  "kernelspec": {
   "display_name": "Python 3 (ipykernel)",
   "language": "python",
   "name": "python3"
  },
  "language_info": {
   "codemirror_mode": {
    "name": "ipython",
    "version": 3
   },
   "file_extension": ".py",
   "mimetype": "text/x-python",
   "name": "python",
   "nbconvert_exporter": "python",
   "pygments_lexer": "ipython3",
   "version": "3.9.12"
  }
 },
 "nbformat": 4,
 "nbformat_minor": 5
}
